{
 "cells": [
  {
   "cell_type": "code",
   "execution_count": 8,
   "metadata": {},
   "outputs": [
    {
     "name": "stderr",
     "output_type": "stream",
     "text": [
      "D:\\Anaconda3\\lib\\site-packages\\pandas\\core\\generic.py:4355: SettingWithCopyWarning: \n",
      "A value is trying to be set on a copy of a slice from a DataFrame\n",
      "\n",
      "See the caveats in the documentation: http://pandas.pydata.org/pandas-docs/stable/indexing.html#indexing-view-versus-copy\n",
      "  self._update_inplace(new_data)\n"
     ]
    }
   ],
   "source": [
    "import pandas as pd\n",
    "url = 'http://biostat.mc.vanderbilt.edu/wiki/pub/Main/DataSets/titanic.txt'\n",
    "titanic = pd.read_csv(url)\n",
    "x = titanic[['pclass', 'age', 'sex']]\n",
    "y = titanic[['survived']]\n",
    "x['age'].fillna(x['age'].mean(), inplace=True)"
   ]
  },
  {
   "cell_type": "code",
   "execution_count": 7,
   "metadata": {},
   "outputs": [
    {
     "name": "stdout",
     "output_type": "stream",
     "text": [
      "<class 'pandas.core.frame.DataFrame'>\n",
      "RangeIndex: 1313 entries, 0 to 1312\n",
      "Data columns (total 3 columns):\n",
      "pclass    1313 non-null object\n",
      "age       1313 non-null float64\n",
      "sex       1313 non-null object\n",
      "dtypes: float64(1), object(2)\n",
      "memory usage: 30.9+ KB\n"
     ]
    }
   ],
   "source": [
    "x.info()"
   ]
  },
  {
   "cell_type": "code",
   "execution_count": 29,
   "metadata": {},
   "outputs": [
    {
     "name": "stdout",
     "output_type": "stream",
     "text": [
      "1050 263\n"
     ]
    }
   ],
   "source": [
    "from sklearn.model_selection import train_test_split\n",
    "x_train, x_test, y_train, y_test = train_test_split(x, y, test_size=0.2, random_state=10)\n",
    "print(len(x_train), len(x_test))"
   ]
  },
  {
   "cell_type": "code",
   "execution_count": 30,
   "metadata": {
    "scrolled": true
   },
   "outputs": [
    {
     "name": "stdout",
     "output_type": "stream",
     "text": [
      "     pclass        age     sex\n",
      "229     1st  50.000000    male\n",
      "85      1st  31.194181  female\n",
      "1145    3rd  31.194181    male\n",
      "518     2nd  20.000000    male\n",
      "304     1st  31.194181    male\n",
      "1030    3rd  31.194181    male\n",
      "804     3rd  31.194181    male\n",
      "828     3rd   9.000000    male\n",
      "80      1st  27.000000  female\n",
      "767     3rd  30.000000    male\n",
      "748     3rd  30.000000  female\n",
      "157     1st  40.000000  female\n",
      "754     3rd  24.000000    male\n",
      "533     2nd  34.000000    male\n",
      "890     3rd  31.194181    male\n",
      "511     2nd  18.000000  female\n",
      "358     2nd   0.833300    male\n",
      "940     3rd  31.194181    male\n",
      "945     3rd  31.194181    male\n",
      "952     3rd  31.194181    male\n",
      "177     1st  28.000000    male\n",
      "1205    3rd  31.194181    male\n",
      "36      1st  44.000000  female\n",
      "803     3rd  31.194181    male\n",
      "383     2nd  49.000000  female\n",
      "1084    3rd  31.194181    male\n",
      "24      1st  28.000000    male\n",
      "437     2nd  48.000000  female\n",
      "425     2nd   1.000000    male\n",
      "960     3rd  31.194181    male\n",
      "...     ...        ...     ...\n",
      "652     3rd  27.000000    male\n",
      "89      1st  48.000000  female\n",
      "670     3rd  26.000000    male\n",
      "653     3rd  23.000000    male\n",
      "409     2nd  35.000000    male\n",
      "755     3rd  22.000000    male\n",
      "13      1st  31.194181    male\n",
      "77      1st  31.194181    male\n",
      "1078    3rd  31.194181    male\n",
      "974     3rd  31.194181    male\n",
      "1224    3rd  31.194181    male\n",
      "574     2nd  30.000000    male\n",
      "1146    3rd  31.194181    male\n",
      "54      1st  31.194181  female\n",
      "395     2nd  42.000000    male\n",
      "239     1st  23.000000  female\n",
      "356     2nd  26.000000    male\n",
      "371     2nd  29.000000    male\n",
      "502     2nd  19.000000    male\n",
      "40      1st  31.194181    male\n",
      "490     2nd  31.194181  female\n",
      "256     1st  52.000000    male\n",
      "1097    3rd  31.194181    male\n",
      "1032    3rd  31.194181    male\n",
      "733     3rd  27.000000    male\n",
      "1180    3rd  31.194181    male\n",
      "1147    3rd  31.194181    male\n",
      "527     2nd  50.000000  female\n",
      "1149    3rd  31.194181  female\n",
      "1289    3rd  31.194181    male\n",
      "\n",
      "[1050 rows x 3 columns]\n"
     ]
    }
   ],
   "source": [
    "from sklearn.feature_extraction import DictVectorizer\n",
    "vec = DictVectorizer(sparse=False)\n",
    "print(x_train)\n",
    "x_train = vec.fit_transform(x_train.to_dict(orient='record'))\n",
    "x_test = vec.transform(x_test.to_dict(orient='record'))"
   ]
  },
  {
   "cell_type": "code",
   "execution_count": 31,
   "metadata": {},
   "outputs": [],
   "source": [
    "from sklearn.tree import DecisionTreeClassifier\n",
    "dtc = DecisionTreeClassifier()\n",
    "dtc.fit(x_train, y_train)\n",
    "y_predict = dtc.predict(x_test)"
   ]
  },
  {
   "cell_type": "code",
   "execution_count": 33,
   "metadata": {},
   "outputs": [
    {
     "name": "stdout",
     "output_type": "stream",
     "text": [
      "Accuracy: 0.8022813688212928\n",
      "             precision    recall  f1-score   support\n",
      "\n",
      "       died       0.80      0.93      0.86       176\n",
      "   survived       0.80      0.54      0.64        87\n",
      "\n",
      "avg / total       0.80      0.80      0.79       263\n",
      "\n"
     ]
    }
   ],
   "source": [
    "from sklearn.metrics import classification_report\n",
    "print('Accuracy:', dtc.score(x_test, y_test))\n",
    "print(classification_report(y_test, y_predict, target_names=['died', 'survived']))"
   ]
  }
 ],
 "metadata": {
  "kernelspec": {
   "display_name": "Python 3",
   "language": "python",
   "name": "python3"
  },
  "language_info": {
   "codemirror_mode": {
    "name": "ipython",
    "version": 3
   },
   "file_extension": ".py",
   "mimetype": "text/x-python",
   "name": "python",
   "nbconvert_exporter": "python",
   "pygments_lexer": "ipython3",
   "version": "3.6.4"
  }
 },
 "nbformat": 4,
 "nbformat_minor": 2
}
